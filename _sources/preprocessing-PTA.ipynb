{
 "cells": [
  {
   "cell_type": "markdown",
   "metadata": {},
   "source": [
    "# Load Data"
   ]
  },
  {
   "cell_type": "code",
   "execution_count": 20,
   "metadata": {},
   "outputs": [],
   "source": [
    "import numpy as np\n",
    "import pandas as pd"
   ]
  },
  {
   "cell_type": "code",
   "execution_count": 21,
   "metadata": {},
   "outputs": [
    {
     "data": {
      "text/html": [
       "<div>\n",
       "<style scoped>\n",
       "    .dataframe tbody tr th:only-of-type {\n",
       "        vertical-align: middle;\n",
       "    }\n",
       "\n",
       "    .dataframe tbody tr th {\n",
       "        vertical-align: top;\n",
       "    }\n",
       "\n",
       "    .dataframe thead th {\n",
       "        text-align: right;\n",
       "    }\n",
       "</style>\n",
       "<table border=\"1\" class=\"dataframe\">\n",
       "  <thead>\n",
       "    <tr style=\"text-align: right;\">\n",
       "      <th></th>\n",
       "      <th>NIM</th>\n",
       "      <th>Nama</th>\n",
       "      <th>Judul</th>\n",
       "      <th>Abstrak</th>\n",
       "      <th>Kelas</th>\n",
       "    </tr>\n",
       "  </thead>\n",
       "  <tbody>\n",
       "    <tr>\n",
       "      <th>0</th>\n",
       "      <td>40411100468</td>\n",
       "      <td>A.Ubaidillah S.Kom</td>\n",
       "      <td>PERANCANGAN DAN IMPLEMENTASI SISTEM DATABASE T...</td>\n",
       "      <td>Sistem  informasi  akademik  (SIAKAD) merupaka...</td>\n",
       "      <td>RPL</td>\n",
       "    </tr>\n",
       "    <tr>\n",
       "      <th>1</th>\n",
       "      <td>40411100476</td>\n",
       "      <td>M. Basith Ardianto,</td>\n",
       "      <td>APLIKASI KONTROL DAN MONITORING JARINGAN KOMPU...</td>\n",
       "      <td>Berjalannya koneksi jaringan komputer dengan l...</td>\n",
       "      <td>RPL</td>\n",
       "    </tr>\n",
       "    <tr>\n",
       "      <th>2</th>\n",
       "      <td>70411100070</td>\n",
       "      <td>Heri Supriyanto</td>\n",
       "      <td>SISTEM PENDUKUNG KEPUTUSAN OPTIMASI PENJADWALA...</td>\n",
       "      <td>Penjadwalan  kuliah  di  Perguruan  Tinggi  me...</td>\n",
       "      <td>Komputasi</td>\n",
       "    </tr>\n",
       "    <tr>\n",
       "      <th>3</th>\n",
       "      <td>80411100115</td>\n",
       "      <td>Septian Rahman Hakim</td>\n",
       "      <td>SISTEM AUGMENTED REALITY ANIMASI BENDA BERGERA...</td>\n",
       "      <td>Seiring perkembangan teknologi yang ada diduni...</td>\n",
       "      <td>Komputasi</td>\n",
       "    </tr>\n",
       "    <tr>\n",
       "      <th>4</th>\n",
       "      <td>70411100007</td>\n",
       "      <td>Adi Chandra Laksono</td>\n",
       "      <td>Gerak Pekerja Pada Game Real Time Strategy Men...</td>\n",
       "      <td>Gerak pekerja ada pada game yang memiliki genr...</td>\n",
       "      <td>RPL</td>\n",
       "    </tr>\n",
       "  </tbody>\n",
       "</table>\n",
       "</div>"
      ],
      "text/plain": [
       "           NIM                  Nama  \\\n",
       "0  40411100468    A.Ubaidillah S.Kom   \n",
       "1  40411100476   M. Basith Ardianto,   \n",
       "2  70411100070       Heri Supriyanto   \n",
       "3  80411100115  Septian Rahman Hakim   \n",
       "4  70411100007   Adi Chandra Laksono   \n",
       "\n",
       "                                               Judul  \\\n",
       "0  PERANCANGAN DAN IMPLEMENTASI SISTEM DATABASE T...   \n",
       "1  APLIKASI KONTROL DAN MONITORING JARINGAN KOMPU...   \n",
       "2  SISTEM PENDUKUNG KEPUTUSAN OPTIMASI PENJADWALA...   \n",
       "3  SISTEM AUGMENTED REALITY ANIMASI BENDA BERGERA...   \n",
       "4  Gerak Pekerja Pada Game Real Time Strategy Men...   \n",
       "\n",
       "                                             Abstrak      Kelas  \n",
       "0  Sistem  informasi  akademik  (SIAKAD) merupaka...        RPL  \n",
       "1  Berjalannya koneksi jaringan komputer dengan l...        RPL  \n",
       "2  Penjadwalan  kuliah  di  Perguruan  Tinggi  me...  Komputasi  \n",
       "3  Seiring perkembangan teknologi yang ada diduni...  Komputasi  \n",
       "4  Gerak pekerja ada pada game yang memiliki genr...        RPL  "
      ]
     },
     "execution_count": 21,
     "metadata": {},
     "output_type": "execute_result"
    }
   ],
   "source": [
    "df = pd.read_excel('PtaLabelPalingFix.xlsx')\n",
    "# df = df.drop(['Unnamed: 0.1'], axis=1)\n",
    "df.head()"
   ]
  },
  {
   "cell_type": "markdown",
   "metadata": {},
   "source": [
    "# Data Exploration"
   ]
  },
  {
   "cell_type": "code",
   "execution_count": 22,
   "metadata": {},
   "outputs": [
    {
     "data": {
      "text/plain": [
       "NIM        0\n",
       "Nama       0\n",
       "Judul      0\n",
       "Abstrak    3\n",
       "Kelas      0\n",
       "dtype: int64"
      ]
     },
     "execution_count": 22,
     "metadata": {},
     "output_type": "execute_result"
    }
   ],
   "source": [
    "# count nan value\n",
    "df.isnull().sum()"
   ]
  },
  {
   "cell_type": "code",
   "execution_count": 23,
   "metadata": {},
   "outputs": [],
   "source": [
    "df.dropna(inplace=True)"
   ]
  },
  {
   "cell_type": "code",
   "execution_count": 24,
   "metadata": {},
   "outputs": [
    {
     "data": {
      "text/plain": [
       "NIM        0\n",
       "Nama       0\n",
       "Judul      0\n",
       "Abstrak    0\n",
       "Kelas      0\n",
       "dtype: int64"
      ]
     },
     "execution_count": 24,
     "metadata": {},
     "output_type": "execute_result"
    }
   ],
   "source": [
    "df.isnull().sum()"
   ]
  },
  {
   "cell_type": "code",
   "execution_count": 25,
   "metadata": {},
   "outputs": [
    {
     "data": {
      "text/plain": [
       "NIM        795\n",
       "Nama       795\n",
       "Judul      795\n",
       "Abstrak    795\n",
       "Kelas      795\n",
       "dtype: int64"
      ]
     },
     "execution_count": 25,
     "metadata": {},
     "output_type": "execute_result"
    }
   ],
   "source": [
    "df.count()"
   ]
  },
  {
   "cell_type": "code",
   "execution_count": 27,
   "metadata": {},
   "outputs": [
    {
     "data": {
      "text/html": [
       "<div>\n",
       "<style scoped>\n",
       "    .dataframe tbody tr th:only-of-type {\n",
       "        vertical-align: middle;\n",
       "    }\n",
       "\n",
       "    .dataframe tbody tr th {\n",
       "        vertical-align: top;\n",
       "    }\n",
       "\n",
       "    .dataframe thead th {\n",
       "        text-align: right;\n",
       "    }\n",
       "</style>\n",
       "<table border=\"1\" class=\"dataframe\">\n",
       "  <thead>\n",
       "    <tr style=\"text-align: right;\">\n",
       "      <th></th>\n",
       "      <th>NIM</th>\n",
       "      <th>Nama</th>\n",
       "      <th>Judul</th>\n",
       "      <th>Abstrak</th>\n",
       "      <th>Kelas</th>\n",
       "    </tr>\n",
       "  </thead>\n",
       "  <tbody>\n",
       "    <tr>\n",
       "      <th>793</th>\n",
       "      <td>160411100032</td>\n",
       "      <td>Rachmad Agung Pambudi</td>\n",
       "      <td>PENERAPAN ALGORITMA LONG-SHORT TERM MEMORY UNT...</td>\n",
       "      <td>Investasi saham selama ini memiliki resiko ker...</td>\n",
       "      <td>NLP</td>\n",
       "    </tr>\n",
       "    <tr>\n",
       "      <th>794</th>\n",
       "      <td>160411100182</td>\n",
       "      <td>Nadila Hidayanti</td>\n",
       "      <td>SISTEM PENCARIAN TEKS AL-QURAN TERJEMAHAN BERB...</td>\n",
       "      <td>Information Retrieval (IR) merupakan pengambil...</td>\n",
       "      <td>Komputasi</td>\n",
       "    </tr>\n",
       "    <tr>\n",
       "      <th>795</th>\n",
       "      <td>160411100077</td>\n",
       "      <td>Afni Sakinah</td>\n",
       "      <td>KLASIFIKASI KOMPLEKSITAS VISUAL CITRA SAMPAH M...</td>\n",
       "      <td>Klasifikasi citra merupakan proses pengelompok...</td>\n",
       "      <td>Komputasi</td>\n",
       "    </tr>\n",
       "    <tr>\n",
       "      <th>796</th>\n",
       "      <td>160411100084</td>\n",
       "      <td>Friska Fatmawatiningrum</td>\n",
       "      <td>IDENTIFIKASI BINER ATRIBUT PEJALAN KAKI MENGGU...</td>\n",
       "      <td>Identifikasi atribut pejalan kaki merupakan sa...</td>\n",
       "      <td>NLP</td>\n",
       "    </tr>\n",
       "    <tr>\n",
       "      <th>797</th>\n",
       "      <td>160411100044</td>\n",
       "      <td>Dian Wibowo</td>\n",
       "      <td>DETEKSI OBJEK MANUSIA BERBASIS ONE STAGE DETEC...</td>\n",
       "      <td>Topik deteksi objek telah menarik perhatian ya...</td>\n",
       "      <td>Komputasi</td>\n",
       "    </tr>\n",
       "  </tbody>\n",
       "</table>\n",
       "</div>"
      ],
      "text/plain": [
       "              NIM                     Nama  \\\n",
       "793  160411100032    Rachmad Agung Pambudi   \n",
       "794  160411100182         Nadila Hidayanti   \n",
       "795  160411100077             Afni Sakinah   \n",
       "796  160411100084  Friska Fatmawatiningrum   \n",
       "797  160411100044              Dian Wibowo   \n",
       "\n",
       "                                                 Judul  \\\n",
       "793  PENERAPAN ALGORITMA LONG-SHORT TERM MEMORY UNT...   \n",
       "794  SISTEM PENCARIAN TEKS AL-QURAN TERJEMAHAN BERB...   \n",
       "795  KLASIFIKASI KOMPLEKSITAS VISUAL CITRA SAMPAH M...   \n",
       "796  IDENTIFIKASI BINER ATRIBUT PEJALAN KAKI MENGGU...   \n",
       "797  DETEKSI OBJEK MANUSIA BERBASIS ONE STAGE DETEC...   \n",
       "\n",
       "                                               Abstrak      Kelas  \n",
       "793  Investasi saham selama ini memiliki resiko ker...        NLP  \n",
       "794  Information Retrieval (IR) merupakan pengambil...  Komputasi  \n",
       "795  Klasifikasi citra merupakan proses pengelompok...  Komputasi  \n",
       "796  Identifikasi atribut pejalan kaki merupakan sa...        NLP  \n",
       "797  Topik deteksi objek telah menarik perhatian ya...  Komputasi  "
      ]
     },
     "execution_count": 27,
     "metadata": {},
     "output_type": "execute_result"
    }
   ],
   "source": [
    "df.tail()"
   ]
  },
  {
   "cell_type": "code",
   "execution_count": 28,
   "metadata": {},
   "outputs": [
    {
     "data": {
      "text/plain": [
       "Komputasi    417\n",
       "RPL          254\n",
       "NLP          124\n",
       "Name: Kelas, dtype: int64"
      ]
     },
     "execution_count": 28,
     "metadata": {},
     "output_type": "execute_result"
    }
   ],
   "source": [
    "# Jumlah data pada masing-masing label KBK\n",
    "df['Kelas'].value_counts()"
   ]
  },
  {
   "cell_type": "code",
   "execution_count": 29,
   "metadata": {
    "scrolled": true
   },
   "outputs": [
    {
     "data": {
      "image/png": "[encoded data removed]",
      "text/plain": [
       "<Figure size 432x288 with 1 Axes>"
      ]
     },
     "metadata": {
      "needs_background": "light"
     },
     "output_type": "display_data"
    }
   ],
   "source": [
    "import matplotlib.pyplot as plt\n",
    "\n",
    "df['Kelas'].value_counts().plot(kind='barh')\n",
    "plt.show()"
   ]
  },
  {
   "cell_type": "markdown",
   "metadata": {},
   "source": [
    "# Text Preprocessing"
   ]
  },
  {
   "cell_type": "markdown",
   "metadata": {},
   "source": [
    "## Text Cleaning"
   ]
  },
  {
   "cell_type": "code",
   "execution_count": 33,
   "metadata": {},
   "outputs": [],
   "source": [
    "import re, string\n",
    "\n",
    "# Text Cleaning\n",
    "def cleaning(text):\n",
    "    # HTML Tag Removal\n",
    "    text = re.compile('<.*?>|&([a-z0-9]+|#[0-9]{1,6}|#x[0-9a-f]{1,6});').sub('', str(text))\n",
    "\n",
    "    # Case folding\n",
    "    text = text.lower()\n",
    "\n",
    "    # Trim text\n",
    "    text = text.strip()\n",
    "\n",
    "    # Remove punctuations, karakter spesial, and spasi ganda\n",
    "    text = re.compile('<.*?>').sub('', text)\n",
    "    text = re.compile('[%s]' % re.escape(string.punctuation)).sub(' ', text)\n",
    "    text = re.sub('\\s+', ' ', text)\n",
    "\n",
    "    # Number removal\n",
    "    text = re.sub(r'\\[[0-9]*\\]', ' ', text)\n",
    "    text = re.sub(r'[^\\w\\s]', '', str(text).lower().strip())\n",
    "    text = re.sub(r'\\d', ' ', text)\n",
    "    text = re.sub(r'\\s+', ' ', text)\n",
    "\n",
    "    # Mengubah text 'nan' dengan whitespace agar nantinya dapat dihapus\n",
    "    text = re.sub('nan', '', text)\n",
    "\n",
    "    return text"
   ]
  },
  {
   "cell_type": "code",
   "execution_count": 34,
   "metadata": {},
   "outputs": [
    {
     "data": {
      "text/html": [
       "<div>\n",
       "<style scoped>\n",
       "    .dataframe tbody tr th:only-of-type {\n",
       "        vertical-align: middle;\n",
       "    }\n",
       "\n",
       "    .dataframe tbody tr th {\n",
       "        vertical-align: top;\n",
       "    }\n",
       "\n",
       "    .dataframe thead th {\n",
       "        text-align: right;\n",
       "    }\n",
       "</style>\n",
       "<table border=\"1\" class=\"dataframe\">\n",
       "  <thead>\n",
       "    <tr style=\"text-align: right;\">\n",
       "      <th></th>\n",
       "      <th>NIM</th>\n",
       "      <th>Nama</th>\n",
       "      <th>Judul</th>\n",
       "      <th>Abstrak</th>\n",
       "      <th>Kelas</th>\n",
       "    </tr>\n",
       "  </thead>\n",
       "  <tbody>\n",
       "    <tr>\n",
       "      <th>0</th>\n",
       "      <td>40411100468</td>\n",
       "      <td>A.Ubaidillah S.Kom</td>\n",
       "      <td>perancangan dan implementasi sistem database t...</td>\n",
       "      <td>sistem informasi akademik siakad merupakan sis...</td>\n",
       "      <td>RPL</td>\n",
       "    </tr>\n",
       "    <tr>\n",
       "      <th>1</th>\n",
       "      <td>40411100476</td>\n",
       "      <td>M. Basith Ardianto,</td>\n",
       "      <td>aplikasi kontrol dan monitoring jaringan kompu...</td>\n",
       "      <td>berjalannya koneksi jaringan komputer dengan l...</td>\n",
       "      <td>RPL</td>\n",
       "    </tr>\n",
       "    <tr>\n",
       "      <th>2</th>\n",
       "      <td>70411100070</td>\n",
       "      <td>Heri Supriyanto</td>\n",
       "      <td>sistem pendukung keputusan optimasi penjadwala...</td>\n",
       "      <td>penjadwalan kuliah di perguruan tinggi merupak...</td>\n",
       "      <td>Komputasi</td>\n",
       "    </tr>\n",
       "    <tr>\n",
       "      <th>3</th>\n",
       "      <td>80411100115</td>\n",
       "      <td>Septian Rahman Hakim</td>\n",
       "      <td>sistem augmented reality animasi benda bergera...</td>\n",
       "      <td>seiring perkembangan teknologi yang ada diduni...</td>\n",
       "      <td>Komputasi</td>\n",
       "    </tr>\n",
       "    <tr>\n",
       "      <th>4</th>\n",
       "      <td>70411100007</td>\n",
       "      <td>Adi Chandra Laksono</td>\n",
       "      <td>gerak pekerja pada game real time strategy men...</td>\n",
       "      <td>gerak pekerja ada pada game yang memiliki genr...</td>\n",
       "      <td>RPL</td>\n",
       "    </tr>\n",
       "  </tbody>\n",
       "</table>\n",
       "</div>"
      ],
      "text/plain": [
       "           NIM                  Nama  \\\n",
       "0  40411100468    A.Ubaidillah S.Kom   \n",
       "1  40411100476   M. Basith Ardianto,   \n",
       "2  70411100070       Heri Supriyanto   \n",
       "3  80411100115  Septian Rahman Hakim   \n",
       "4  70411100007   Adi Chandra Laksono   \n",
       "\n",
       "                                               Judul  \\\n",
       "0  perancangan dan implementasi sistem database t...   \n",
       "1  aplikasi kontrol dan monitoring jaringan kompu...   \n",
       "2  sistem pendukung keputusan optimasi penjadwala...   \n",
       "3  sistem augmented reality animasi benda bergera...   \n",
       "4  gerak pekerja pada game real time strategy men...   \n",
       "\n",
       "                                             Abstrak      Kelas  \n",
       "0  sistem informasi akademik siakad merupakan sis...        RPL  \n",
       "1  berjalannya koneksi jaringan komputer dengan l...        RPL  \n",
       "2  penjadwalan kuliah di perguruan tinggi merupak...  Komputasi  \n",
       "3  seiring perkembangan teknologi yang ada diduni...  Komputasi  \n",
       "4  gerak pekerja ada pada game yang memiliki genr...        RPL  "
      ]
     },
     "execution_count": 34,
     "metadata": {},
     "output_type": "execute_result"
    }
   ],
   "source": [
    "\n",
    "df['Judul'] = df['Judul'].apply(lambda x: cleaning(x))\n",
    "df['Abstrak'] = df['Abstrak'].apply(lambda x: cleaning(x))\n",
    "\n",
    "df.head()"
   ]
  },
  {
   "cell_type": "code",
   "execution_count": 35,
   "metadata": {},
   "outputs": [],
   "source": [
    "# Checkpoint: Export Hasil Text Cleaning\n",
    "df.to_csv('pta-cleaning.csv')"
   ]
  },
  {
   "cell_type": "markdown",
   "metadata": {},
   "source": [
    "## Remove Missing Values"
   ]
  },
  {
   "cell_type": "code",
   "execution_count": 36,
   "metadata": {},
   "outputs": [],
   "source": [
    "# Ubah empty string menjadi NaN value\n",
    "df = df.replace('', np.nan)"
   ]
  },
  {
   "cell_type": "code",
   "execution_count": 37,
   "metadata": {},
   "outputs": [
    {
     "data": {
      "text/plain": [
       "NIM        0\n",
       "Nama       0\n",
       "Judul      0\n",
       "Abstrak    2\n",
       "Kelas      0\n",
       "dtype: int64"
      ]
     },
     "execution_count": 37,
     "metadata": {},
     "output_type": "execute_result"
    }
   ],
   "source": [
    "# Cek missing values\n",
    "df.isnull().sum()"
   ]
  },
  {
   "cell_type": "code",
   "execution_count": 38,
   "metadata": {},
   "outputs": [
    {
     "data": {
      "text/plain": [
       "793"
      ]
     },
     "execution_count": 38,
     "metadata": {},
     "output_type": "execute_result"
    }
   ],
   "source": [
    "# Remove missing values\n",
    "df.dropna(inplace=True)\n",
    "len(df)"
   ]
  },
  {
   "cell_type": "markdown",
   "metadata": {},
   "source": [
    "## Remove Duplicate Values"
   ]
  },
  {
   "cell_type": "code",
   "execution_count": 39,
   "metadata": {},
   "outputs": [
    {
     "data": {
      "text/html": [
       "<div>\n",
       "<style scoped>\n",
       "    .dataframe tbody tr th:only-of-type {\n",
       "        vertical-align: middle;\n",
       "    }\n",
       "\n",
       "    .dataframe tbody tr th {\n",
       "        vertical-align: top;\n",
       "    }\n",
       "\n",
       "    .dataframe thead th {\n",
       "        text-align: right;\n",
       "    }\n",
       "</style>\n",
       "<table border=\"1\" class=\"dataframe\">\n",
       "  <thead>\n",
       "    <tr style=\"text-align: right;\">\n",
       "      <th></th>\n",
       "      <th>NIM</th>\n",
       "      <th>Nama</th>\n",
       "      <th>Judul</th>\n",
       "      <th>Abstrak</th>\n",
       "      <th>Kelas</th>\n",
       "    </tr>\n",
       "  </thead>\n",
       "  <tbody>\n",
       "    <tr>\n",
       "      <th>673</th>\n",
       "      <td>120411100015</td>\n",
       "      <td>Abdul Ainur Rofik</td>\n",
       "      <td>sistem pendukung keputusan pemilihan pemain bo...</td>\n",
       "      <td>peningkatan pembinaan permai bola voli terutam...</td>\n",
       "      <td>Komputasi</td>\n",
       "    </tr>\n",
       "  </tbody>\n",
       "</table>\n",
       "</div>"
      ],
      "text/plain": [
       "              NIM               Nama  \\\n",
       "673  120411100015  Abdul Ainur Rofik   \n",
       "\n",
       "                                                 Judul  \\\n",
       "673  sistem pendukung keputusan pemilihan pemain bo...   \n",
       "\n",
       "                                               Abstrak      Kelas  \n",
       "673  peningkatan pembinaan permai bola voli terutam...  Komputasi  "
      ]
     },
     "execution_count": 39,
     "metadata": {},
     "output_type": "execute_result"
    }
   ],
   "source": [
    "# Cek apakah terdapat duplikasi data pada kolom judul\n",
    "df[df['Judul'].duplicated()]"
   ]
  },
  {
   "cell_type": "code",
   "execution_count": 40,
   "metadata": {},
   "outputs": [
    {
     "data": {
      "text/html": [
       "<div>\n",
       "<style scoped>\n",
       "    .dataframe tbody tr th:only-of-type {\n",
       "        vertical-align: middle;\n",
       "    }\n",
       "\n",
       "    .dataframe tbody tr th {\n",
       "        vertical-align: top;\n",
       "    }\n",
       "\n",
       "    .dataframe thead th {\n",
       "        text-align: right;\n",
       "    }\n",
       "</style>\n",
       "<table border=\"1\" class=\"dataframe\">\n",
       "  <thead>\n",
       "    <tr style=\"text-align: right;\">\n",
       "      <th></th>\n",
       "      <th>NIM</th>\n",
       "      <th>Nama</th>\n",
       "      <th>Judul</th>\n",
       "      <th>Abstrak</th>\n",
       "      <th>Kelas</th>\n",
       "    </tr>\n",
       "  </thead>\n",
       "  <tbody>\n",
       "  </tbody>\n",
       "</table>\n",
       "</div>"
      ],
      "text/plain": [
       "Empty DataFrame\n",
       "Columns: [NIM, Nama, Judul, Abstrak, Kelas]\n",
       "Index: []"
      ]
     },
     "execution_count": 40,
     "metadata": {},
     "output_type": "execute_result"
    }
   ],
   "source": [
    "# Remove duplicates judul\n",
    "df.drop_duplicates(subset=['Judul'], inplace=True)\n",
    "\n",
    "# Cek apakah masih terdapat duplikasi data pada kolom judul\n",
    "df[df['Judul'].duplicated()]"
   ]
  },
  {
   "cell_type": "code",
   "execution_count": 41,
   "metadata": {},
   "outputs": [
    {
     "data": {
      "text/html": [
       "<div>\n",
       "<style scoped>\n",
       "    .dataframe tbody tr th:only-of-type {\n",
       "        vertical-align: middle;\n",
       "    }\n",
       "\n",
       "    .dataframe tbody tr th {\n",
       "        vertical-align: top;\n",
       "    }\n",
       "\n",
       "    .dataframe thead th {\n",
       "        text-align: right;\n",
       "    }\n",
       "</style>\n",
       "<table border=\"1\" class=\"dataframe\">\n",
       "  <thead>\n",
       "    <tr style=\"text-align: right;\">\n",
       "      <th></th>\n",
       "      <th>NIM</th>\n",
       "      <th>Nama</th>\n",
       "      <th>Judul</th>\n",
       "      <th>Abstrak</th>\n",
       "      <th>Kelas</th>\n",
       "    </tr>\n",
       "  </thead>\n",
       "  <tbody>\n",
       "  </tbody>\n",
       "</table>\n",
       "</div>"
      ],
      "text/plain": [
       "Empty DataFrame\n",
       "Columns: [NIM, Nama, Judul, Abstrak, Kelas]\n",
       "Index: []"
      ]
     },
     "execution_count": 41,
     "metadata": {},
     "output_type": "execute_result"
    }
   ],
   "source": [
    "# Cek apakah terdapat duplikasi data pada kolom abstrak\n",
    "df[df['Abstrak'].duplicated()]"
   ]
  },
  {
   "cell_type": "code",
   "execution_count": 42,
   "metadata": {},
   "outputs": [
    {
     "data": {
      "text/html": [
       "<div>\n",
       "<style scoped>\n",
       "    .dataframe tbody tr th:only-of-type {\n",
       "        vertical-align: middle;\n",
       "    }\n",
       "\n",
       "    .dataframe tbody tr th {\n",
       "        vertical-align: top;\n",
       "    }\n",
       "\n",
       "    .dataframe thead th {\n",
       "        text-align: right;\n",
       "    }\n",
       "</style>\n",
       "<table border=\"1\" class=\"dataframe\">\n",
       "  <thead>\n",
       "    <tr style=\"text-align: right;\">\n",
       "      <th></th>\n",
       "      <th>NIM</th>\n",
       "      <th>Nama</th>\n",
       "      <th>Judul</th>\n",
       "      <th>Abstrak</th>\n",
       "      <th>Kelas</th>\n",
       "    </tr>\n",
       "  </thead>\n",
       "  <tbody>\n",
       "  </tbody>\n",
       "</table>\n",
       "</div>"
      ],
      "text/plain": [
       "Empty DataFrame\n",
       "Columns: [NIM, Nama, Judul, Abstrak, Kelas]\n",
       "Index: []"
      ]
     },
     "execution_count": 42,
     "metadata": {},
     "output_type": "execute_result"
    }
   ],
   "source": [
    "# Remove duplicates abstrak\n",
    "df.drop_duplicates(subset=['Abstrak'], inplace=True)\n",
    "\n",
    "# Cek apakah masih terdapat duplikasi data pada kolom abstrak\n",
    "df[df['Abstrak'].duplicated()]"
   ]
  },
  {
   "cell_type": "code",
   "execution_count": 43,
   "metadata": {},
   "outputs": [],
   "source": [
    "# Checkpoint: Export Hasil Preprocessing\n",
    "df.to_csv('preprocessed-pta.csv')"
   ]
  },
  {
   "cell_type": "code",
   "execution_count": 44,
   "metadata": {},
   "outputs": [
    {
     "data": {
      "image/png": "[encoded data removed]",
      "text/plain": [
       "<Figure size 432x288 with 1 Axes>"
      ]
     },
     "metadata": {
      "needs_background": "light"
     },
     "output_type": "display_data"
    }
   ],
   "source": [
    "# Distribusi Kelas setelah Text Preprocessing\n",
    "df['Kelas'].value_counts().plot(kind='barh')\n",
    "plt.show()"
   ]
  },
  {
   "cell_type": "markdown",
   "metadata": {},
   "source": [
    "## Tokenization"
   ]
  },
  {
   "cell_type": "code",
   "execution_count": 45,
   "metadata": {},
   "outputs": [
    {
     "data": {
      "text/html": [
       "<div>\n",
       "<style scoped>\n",
       "    .dataframe tbody tr th:only-of-type {\n",
       "        vertical-align: middle;\n",
       "    }\n",
       "\n",
       "    .dataframe tbody tr th {\n",
       "        vertical-align: top;\n",
       "    }\n",
       "\n",
       "    .dataframe thead th {\n",
       "        text-align: right;\n",
       "    }\n",
       "</style>\n",
       "<table border=\"1\" class=\"dataframe\">\n",
       "  <thead>\n",
       "    <tr style=\"text-align: right;\">\n",
       "      <th></th>\n",
       "      <th>Judul</th>\n",
       "      <th>judul_tokens</th>\n",
       "    </tr>\n",
       "  </thead>\n",
       "  <tbody>\n",
       "    <tr>\n",
       "      <th>0</th>\n",
       "      <td>perancangan dan implementasi sistem database t...</td>\n",
       "      <td>[perancangan, dan, implementasi, sistem, datab...</td>\n",
       "    </tr>\n",
       "    <tr>\n",
       "      <th>1</th>\n",
       "      <td>aplikasi kontrol dan monitoring jaringan kompu...</td>\n",
       "      <td>[aplikasi, kontrol, dan, monitoring, jaringan,...</td>\n",
       "    </tr>\n",
       "    <tr>\n",
       "      <th>2</th>\n",
       "      <td>sistem pendukung keputusan optimasi penjadwala...</td>\n",
       "      <td>[sistem, pendukung, keputusan, optimasi, penja...</td>\n",
       "    </tr>\n",
       "    <tr>\n",
       "      <th>3</th>\n",
       "      <td>sistem augmented reality animasi benda bergera...</td>\n",
       "      <td>[sistem, augmented, reality, animasi, benda, b...</td>\n",
       "    </tr>\n",
       "    <tr>\n",
       "      <th>4</th>\n",
       "      <td>gerak pekerja pada game real time strategy men...</td>\n",
       "      <td>[gerak, pekerja, pada, game, real, time, strat...</td>\n",
       "    </tr>\n",
       "  </tbody>\n",
       "</table>\n",
       "</div>"
      ],
      "text/plain": [
       "                                               Judul  \\\n",
       "0  perancangan dan implementasi sistem database t...   \n",
       "1  aplikasi kontrol dan monitoring jaringan kompu...   \n",
       "2  sistem pendukung keputusan optimasi penjadwala...   \n",
       "3  sistem augmented reality animasi benda bergera...   \n",
       "4  gerak pekerja pada game real time strategy men...   \n",
       "\n",
       "                                        judul_tokens  \n",
       "0  [perancangan, dan, implementasi, sistem, datab...  \n",
       "1  [aplikasi, kontrol, dan, monitoring, jaringan,...  \n",
       "2  [sistem, pendukung, keputusan, optimasi, penja...  \n",
       "3  [sistem, augmented, reality, animasi, benda, b...  \n",
       "4  [gerak, pekerja, pada, game, real, time, strat...  "
      ]
     },
     "execution_count": 45,
     "metadata": {},
     "output_type": "execute_result"
    }
   ],
   "source": [
    "from nltk.tokenize import word_tokenize\n",
    "\n",
    "# Tokenizing Judul\n",
    "df['judul_tokens'] = df['Judul'].apply(lambda x: word_tokenize(x))\n",
    "df[[\"Judul\", \"judul_tokens\"]].head()"
   ]
  },
  {
   "cell_type": "code",
   "execution_count": 46,
   "metadata": {},
   "outputs": [
    {
     "data": {
      "text/html": [
       "<div>\n",
       "<style scoped>\n",
       "    .dataframe tbody tr th:only-of-type {\n",
       "        vertical-align: middle;\n",
       "    }\n",
       "\n",
       "    .dataframe tbody tr th {\n",
       "        vertical-align: top;\n",
       "    }\n",
       "\n",
       "    .dataframe thead th {\n",
       "        text-align: right;\n",
       "    }\n",
       "</style>\n",
       "<table border=\"1\" class=\"dataframe\">\n",
       "  <thead>\n",
       "    <tr style=\"text-align: right;\">\n",
       "      <th></th>\n",
       "      <th>Abstrak</th>\n",
       "      <th>abstrak_tokens</th>\n",
       "    </tr>\n",
       "  </thead>\n",
       "  <tbody>\n",
       "    <tr>\n",
       "      <th>0</th>\n",
       "      <td>sistem informasi akademik siakad merupakan sis...</td>\n",
       "      <td>[sistem, informasi, akademik, siakad, merupaka...</td>\n",
       "    </tr>\n",
       "    <tr>\n",
       "      <th>1</th>\n",
       "      <td>berjalannya koneksi jaringan komputer dengan l...</td>\n",
       "      <td>[berjalannya, koneksi, jaringan, komputer, den...</td>\n",
       "    </tr>\n",
       "    <tr>\n",
       "      <th>2</th>\n",
       "      <td>penjadwalan kuliah di perguruan tinggi merupak...</td>\n",
       "      <td>[penjadwalan, kuliah, di, perguruan, tinggi, m...</td>\n",
       "    </tr>\n",
       "    <tr>\n",
       "      <th>3</th>\n",
       "      <td>seiring perkembangan teknologi yang ada diduni...</td>\n",
       "      <td>[seiring, perkembangan, teknologi, yang, ada, ...</td>\n",
       "    </tr>\n",
       "    <tr>\n",
       "      <th>4</th>\n",
       "      <td>gerak pekerja ada pada game yang memiliki genr...</td>\n",
       "      <td>[gerak, pekerja, ada, pada, game, yang, memili...</td>\n",
       "    </tr>\n",
       "  </tbody>\n",
       "</table>\n",
       "</div>"
      ],
      "text/plain": [
       "                                             Abstrak  \\\n",
       "0  sistem informasi akademik siakad merupakan sis...   \n",
       "1  berjalannya koneksi jaringan komputer dengan l...   \n",
       "2  penjadwalan kuliah di perguruan tinggi merupak...   \n",
       "3  seiring perkembangan teknologi yang ada diduni...   \n",
       "4  gerak pekerja ada pada game yang memiliki genr...   \n",
       "\n",
       "                                      abstrak_tokens  \n",
       "0  [sistem, informasi, akademik, siakad, merupaka...  \n",
       "1  [berjalannya, koneksi, jaringan, komputer, den...  \n",
       "2  [penjadwalan, kuliah, di, perguruan, tinggi, m...  \n",
       "3  [seiring, perkembangan, teknologi, yang, ada, ...  \n",
       "4  [gerak, pekerja, ada, pada, game, yang, memili...  "
      ]
     },
     "execution_count": 46,
     "metadata": {},
     "output_type": "execute_result"
    }
   ],
   "source": [
    "# Tokenizing Abstrak\n",
    "df['abstrak_tokens'] = df['Abstrak'].apply(lambda x: word_tokenize(x))\n",
    "df[[\"Abstrak\", \"abstrak_tokens\"]].head()"
   ]
  },
  {
   "cell_type": "markdown",
   "metadata": {},
   "source": [
    "## Stop Words Removal"
   ]
  },
  {
   "cell_type": "code",
   "execution_count": 49,
   "metadata": {},
   "outputs": [],
   "source": [
    "from nltk.corpus import stopwords \n",
    "from itertools import chain\n",
    "\n",
    "stop_words = set(chain(stopwords.words('indonesian'), stopwords.words('english')))\n",
    "\n",
    "df['judul_tokens'] = df['judul_tokens'].apply(lambda x: [w for w in x if not w in stop_words])\n",
    "df['abstrak_tokens'] = df['abstrak_tokens'].apply(lambda x: [w for w in x if not w in stop_words])"
   ]
  },
  {
   "cell_type": "code",
   "execution_count": 50,
   "metadata": {},
   "outputs": [
    {
     "data": {
      "text/html": [
       "<div>\n",
       "<style scoped>\n",
       "    .dataframe tbody tr th:only-of-type {\n",
       "        vertical-align: middle;\n",
       "    }\n",
       "\n",
       "    .dataframe tbody tr th {\n",
       "        vertical-align: top;\n",
       "    }\n",
       "\n",
       "    .dataframe thead th {\n",
       "        text-align: right;\n",
       "    }\n",
       "</style>\n",
       "<table border=\"1\" class=\"dataframe\">\n",
       "  <thead>\n",
       "    <tr style=\"text-align: right;\">\n",
       "      <th></th>\n",
       "      <th>Judul</th>\n",
       "      <th>judul_tokens</th>\n",
       "    </tr>\n",
       "  </thead>\n",
       "  <tbody>\n",
       "    <tr>\n",
       "      <th>0</th>\n",
       "      <td>perancangan dan implementasi sistem database t...</td>\n",
       "      <td>[perancangan, implementasi, sistem, database, ...</td>\n",
       "    </tr>\n",
       "    <tr>\n",
       "      <th>1</th>\n",
       "      <td>aplikasi kontrol dan monitoring jaringan kompu...</td>\n",
       "      <td>[aplikasi, kontrol, monitoring, jaringan, komp...</td>\n",
       "    </tr>\n",
       "    <tr>\n",
       "      <th>2</th>\n",
       "      <td>sistem pendukung keputusan optimasi penjadwala...</td>\n",
       "      <td>[sistem, pendukung, keputusan, optimasi, penja...</td>\n",
       "    </tr>\n",
       "    <tr>\n",
       "      <th>3</th>\n",
       "      <td>sistem augmented reality animasi benda bergera...</td>\n",
       "      <td>[sistem, augmented, reality, animasi, benda, b...</td>\n",
       "    </tr>\n",
       "    <tr>\n",
       "      <th>4</th>\n",
       "      <td>gerak pekerja pada game real time strategy men...</td>\n",
       "      <td>[gerak, pekerja, game, real, time, strategy, f...</td>\n",
       "    </tr>\n",
       "  </tbody>\n",
       "</table>\n",
       "</div>"
      ],
      "text/plain": [
       "                                               Judul  \\\n",
       "0  perancangan dan implementasi sistem database t...   \n",
       "1  aplikasi kontrol dan monitoring jaringan kompu...   \n",
       "2  sistem pendukung keputusan optimasi penjadwala...   \n",
       "3  sistem augmented reality animasi benda bergera...   \n",
       "4  gerak pekerja pada game real time strategy men...   \n",
       "\n",
       "                                        judul_tokens  \n",
       "0  [perancangan, implementasi, sistem, database, ...  \n",
       "1  [aplikasi, kontrol, monitoring, jaringan, komp...  \n",
       "2  [sistem, pendukung, keputusan, optimasi, penja...  \n",
       "3  [sistem, augmented, reality, animasi, benda, b...  \n",
       "4  [gerak, pekerja, game, real, time, strategy, f...  "
      ]
     },
     "execution_count": 50,
     "metadata": {},
     "output_type": "execute_result"
    }
   ],
   "source": [
    "df[[\"Judul\", \"judul_tokens\"]].head()"
   ]
  },
  {
   "cell_type": "code",
   "execution_count": 51,
   "metadata": {},
   "outputs": [
    {
     "data": {
      "text/html": [
       "<div>\n",
       "<style scoped>\n",
       "    .dataframe tbody tr th:only-of-type {\n",
       "        vertical-align: middle;\n",
       "    }\n",
       "\n",
       "    .dataframe tbody tr th {\n",
       "        vertical-align: top;\n",
       "    }\n",
       "\n",
       "    .dataframe thead th {\n",
       "        text-align: right;\n",
       "    }\n",
       "</style>\n",
       "<table border=\"1\" class=\"dataframe\">\n",
       "  <thead>\n",
       "    <tr style=\"text-align: right;\">\n",
       "      <th></th>\n",
       "      <th>Abstrak</th>\n",
       "      <th>abstrak_tokens</th>\n",
       "    </tr>\n",
       "  </thead>\n",
       "  <tbody>\n",
       "    <tr>\n",
       "      <th>0</th>\n",
       "      <td>sistem informasi akademik siakad merupakan sis...</td>\n",
       "      <td>[sistem, informasi, akademik, siakad, sistem, ...</td>\n",
       "    </tr>\n",
       "    <tr>\n",
       "      <th>1</th>\n",
       "      <td>berjalannya koneksi jaringan komputer dengan l...</td>\n",
       "      <td>[berjalannya, koneksi, jaringan, komputer, lan...</td>\n",
       "    </tr>\n",
       "    <tr>\n",
       "      <th>2</th>\n",
       "      <td>penjadwalan kuliah di perguruan tinggi merupak...</td>\n",
       "      <td>[penjadwalan, kuliah, perguruan, kompleks, per...</td>\n",
       "    </tr>\n",
       "    <tr>\n",
       "      <th>3</th>\n",
       "      <td>seiring perkembangan teknologi yang ada diduni...</td>\n",
       "      <td>[seiring, perkembangan, teknologi, didunia, mu...</td>\n",
       "    </tr>\n",
       "    <tr>\n",
       "      <th>4</th>\n",
       "      <td>gerak pekerja ada pada game yang memiliki genr...</td>\n",
       "      <td>[gerak, pekerja, game, memiliki, genre, rts, r...</td>\n",
       "    </tr>\n",
       "  </tbody>\n",
       "</table>\n",
       "</div>"
      ],
      "text/plain": [
       "                                             Abstrak  \\\n",
       "0  sistem informasi akademik siakad merupakan sis...   \n",
       "1  berjalannya koneksi jaringan komputer dengan l...   \n",
       "2  penjadwalan kuliah di perguruan tinggi merupak...   \n",
       "3  seiring perkembangan teknologi yang ada diduni...   \n",
       "4  gerak pekerja ada pada game yang memiliki genr...   \n",
       "\n",
       "                                      abstrak_tokens  \n",
       "0  [sistem, informasi, akademik, siakad, sistem, ...  \n",
       "1  [berjalannya, koneksi, jaringan, komputer, lan...  \n",
       "2  [penjadwalan, kuliah, perguruan, kompleks, per...  \n",
       "3  [seiring, perkembangan, teknologi, didunia, mu...  \n",
       "4  [gerak, pekerja, game, memiliki, genre, rts, r...  "
      ]
     },
     "execution_count": 51,
     "metadata": {},
     "output_type": "execute_result"
    }
   ],
   "source": [
    "df[[\"Abstrak\", \"abstrak_tokens\"]].head()"
   ]
  },
  {
   "cell_type": "markdown",
   "metadata": {},
   "source": [
    "## Stemming"
   ]
  },
  {
   "cell_type": "code",
   "execution_count": 52,
   "metadata": {},
   "outputs": [],
   "source": [
    "from Sastrawi.Stemmer.StemmerFactory import StemmerFactory\n",
    "from tqdm.auto import tqdm\n",
    "tqdm.pandas()\n",
    "\n",
    "factory = StemmerFactory()\n",
    "stemmer = factory.create_stemmer()"
   ]
  },
  {
   "cell_type": "code",
   "execution_count": 53,
   "metadata": {},
   "outputs": [
    {
     "name": "stderr",
     "output_type": "stream",
     "text": [
      "100%|██████████| 792/792 [03:35<00:00,  3.67it/s]\n"
     ]
    }
   ],
   "source": [
    "# Stemming judul\n",
    "df['judul_tokens'] = df['judul_tokens'].progress_apply(lambda x: stemmer.stem(' '.join(x)).split(' '))"
   ]
  },
  {
   "cell_type": "code",
   "execution_count": 23,
   "metadata": {},
   "outputs": [
    {
     "data": {
      "text/html": [
       "<div>\n",
       "<style scoped>\n",
       "    .dataframe tbody tr th:only-of-type {\n",
       "        vertical-align: middle;\n",
       "    }\n",
       "\n",
       "    .dataframe tbody tr th {\n",
       "        vertical-align: top;\n",
       "    }\n",
       "\n",
       "    .dataframe thead th {\n",
       "        text-align: right;\n",
       "    }\n",
       "</style>\n",
       "<table border=\"1\" class=\"dataframe\">\n",
       "  <thead>\n",
       "    <tr style=\"text-align: right;\">\n",
       "      <th></th>\n",
       "      <th>judul</th>\n",
       "      <th>judul_tokens</th>\n",
       "    </tr>\n",
       "  </thead>\n",
       "  <tbody>\n",
       "    <tr>\n",
       "      <th>0</th>\n",
       "      <td>pengembangan sistem pendukung keputusan untuk ...</td>\n",
       "      <td>[kembang, sistem, dukung, putus, tentu, dosen,...</td>\n",
       "    </tr>\n",
       "    <tr>\n",
       "      <th>1</th>\n",
       "      <td>hubungan efikasi diri dengan kesiapan kerja lu...</td>\n",
       "      <td>[hubung, efikasi, kesiap, kerja, lulus, smk, n...</td>\n",
       "    </tr>\n",
       "    <tr>\n",
       "      <th>2</th>\n",
       "      <td>alat bantu penyandang tuetra berbasis deteksi ...</td>\n",
       "      <td>[alat, bantu, sandang, tuetra, bas, deteksi, o...</td>\n",
       "    </tr>\n",
       "    <tr>\n",
       "      <th>3</th>\n",
       "      <td>analisis thermovisi penghantar akibat transmis...</td>\n",
       "      <td>[analisis, thermovisi, hantar, akibat, transmi...</td>\n",
       "    </tr>\n",
       "    <tr>\n",
       "      <th>4</th>\n",
       "      <td>pengembangan modulberbasis production based ed...</td>\n",
       "      <td>[kembang, modulberbasis, production, based, ed...</td>\n",
       "    </tr>\n",
       "  </tbody>\n",
       "</table>\n",
       "</div>"
      ],
      "text/plain": [
       "                                               judul  \\\n",
       "0  pengembangan sistem pendukung keputusan untuk ...   \n",
       "1  hubungan efikasi diri dengan kesiapan kerja lu...   \n",
       "2  alat bantu penyandang tuetra berbasis deteksi ...   \n",
       "3  analisis thermovisi penghantar akibat transmis...   \n",
       "4  pengembangan modulberbasis production based ed...   \n",
       "\n",
       "                                        judul_tokens  \n",
       "0  [kembang, sistem, dukung, putus, tentu, dosen,...  \n",
       "1  [hubung, efikasi, kesiap, kerja, lulus, smk, n...  \n",
       "2  [alat, bantu, sandang, tuetra, bas, deteksi, o...  \n",
       "3  [analisis, thermovisi, hantar, akibat, transmi...  \n",
       "4  [kembang, modulberbasis, production, based, ed...  "
      ]
     },
     "execution_count": 23,
     "metadata": {},
     "output_type": "execute_result"
    }
   ],
   "source": [
    "# Hasil stemming judul\n",
    "df[[\"judul\", \"judul_tokens\"]].head()"
   ]
  },
  {
   "cell_type": "code",
   "execution_count": 54,
   "metadata": {},
   "outputs": [
    {
     "name": "stderr",
     "output_type": "stream",
     "text": [
      "100%|██████████| 792/792 [09:04<00:00,  1.46it/s]\n"
     ]
    }
   ],
   "source": [
    "# Stemming abstrak\n",
    "df['abstrak_tokens'] = df['abstrak_tokens'].progress_apply(lambda x: stemmer.stem(' '.join(x)).split(' '))"
   ]
  },
  {
   "cell_type": "code",
   "execution_count": 56,
   "metadata": {},
   "outputs": [
    {
     "data": {
      "text/html": [
       "<div>\n",
       "<style scoped>\n",
       "    .dataframe tbody tr th:only-of-type {\n",
       "        vertical-align: middle;\n",
       "    }\n",
       "\n",
       "    .dataframe tbody tr th {\n",
       "        vertical-align: top;\n",
       "    }\n",
       "\n",
       "    .dataframe thead th {\n",
       "        text-align: right;\n",
       "    }\n",
       "</style>\n",
       "<table border=\"1\" class=\"dataframe\">\n",
       "  <thead>\n",
       "    <tr style=\"text-align: right;\">\n",
       "      <th></th>\n",
       "      <th>Abstrak</th>\n",
       "      <th>abstrak_tokens</th>\n",
       "    </tr>\n",
       "  </thead>\n",
       "  <tbody>\n",
       "    <tr>\n",
       "      <th>0</th>\n",
       "      <td>sistem informasi akademik siakad merupakan sis...</td>\n",
       "      <td>[sistem, informasi, akademik, siakad, sistem, ...</td>\n",
       "    </tr>\n",
       "    <tr>\n",
       "      <th>1</th>\n",
       "      <td>berjalannya koneksi jaringan komputer dengan l...</td>\n",
       "      <td>[jalan, koneksi, jaring, komputer, lancar, gan...</td>\n",
       "    </tr>\n",
       "    <tr>\n",
       "      <th>2</th>\n",
       "      <td>penjadwalan kuliah di perguruan tinggi merupak...</td>\n",
       "      <td>[jadwal, kuliah, guru, kompleks, masalah, vari...</td>\n",
       "    </tr>\n",
       "    <tr>\n",
       "      <th>3</th>\n",
       "      <td>seiring perkembangan teknologi yang ada diduni...</td>\n",
       "      <td>[iring, kembang, teknologi, dunia, muncul, tek...</td>\n",
       "    </tr>\n",
       "    <tr>\n",
       "      <th>4</th>\n",
       "      <td>gerak pekerja ada pada game yang memiliki genr...</td>\n",
       "      <td>[gerak, kerja, game, milik, genre, rts, real, ...</td>\n",
       "    </tr>\n",
       "  </tbody>\n",
       "</table>\n",
       "</div>"
      ],
      "text/plain": [
       "                                             Abstrak  \\\n",
       "0  sistem informasi akademik siakad merupakan sis...   \n",
       "1  berjalannya koneksi jaringan komputer dengan l...   \n",
       "2  penjadwalan kuliah di perguruan tinggi merupak...   \n",
       "3  seiring perkembangan teknologi yang ada diduni...   \n",
       "4  gerak pekerja ada pada game yang memiliki genr...   \n",
       "\n",
       "                                      abstrak_tokens  \n",
       "0  [sistem, informasi, akademik, siakad, sistem, ...  \n",
       "1  [jalan, koneksi, jaring, komputer, lancar, gan...  \n",
       "2  [jadwal, kuliah, guru, kompleks, masalah, vari...  \n",
       "3  [iring, kembang, teknologi, dunia, muncul, tek...  \n",
       "4  [gerak, kerja, game, milik, genre, rts, real, ...  "
      ]
     },
     "execution_count": 56,
     "metadata": {},
     "output_type": "execute_result"
    }
   ],
   "source": [
    "# Hasil stemming abstrak\n",
    "df[[\"Abstrak\", \"abstrak_tokens\"]].head()"
   ]
  },
  {
   "cell_type": "markdown",
   "metadata": {},
   "source": [
    "## Export Cleaned Data"
   ]
  },
  {
   "cell_type": "code",
   "execution_count": 57,
   "metadata": {},
   "outputs": [
    {
     "data": {
      "text/html": [
       "<div>\n",
       "<style scoped>\n",
       "    .dataframe tbody tr th:only-of-type {\n",
       "        vertical-align: middle;\n",
       "    }\n",
       "\n",
       "    .dataframe tbody tr th {\n",
       "        vertical-align: top;\n",
       "    }\n",
       "\n",
       "    .dataframe thead th {\n",
       "        text-align: right;\n",
       "    }\n",
       "</style>\n",
       "<table border=\"1\" class=\"dataframe\">\n",
       "  <thead>\n",
       "    <tr style=\"text-align: right;\">\n",
       "      <th></th>\n",
       "      <th>NIM</th>\n",
       "      <th>Nama</th>\n",
       "      <th>Judul</th>\n",
       "      <th>Abstrak</th>\n",
       "      <th>Kelas</th>\n",
       "      <th>judul_tokens</th>\n",
       "      <th>abstrak_tokens</th>\n",
       "    </tr>\n",
       "  </thead>\n",
       "  <tbody>\n",
       "    <tr>\n",
       "      <th>0</th>\n",
       "      <td>40411100468</td>\n",
       "      <td>A.Ubaidillah S.Kom</td>\n",
       "      <td>perancangan dan implementasi sistem database t...</td>\n",
       "      <td>sistem informasi akademik siakad merupakan sis...</td>\n",
       "      <td>RPL</td>\n",
       "      <td>[ancang, implementasi, sistem, database, distr...</td>\n",
       "      <td>[sistem, informasi, akademik, siakad, sistem, ...</td>\n",
       "    </tr>\n",
       "    <tr>\n",
       "      <th>1</th>\n",
       "      <td>40411100476</td>\n",
       "      <td>M. Basith Ardianto,</td>\n",
       "      <td>aplikasi kontrol dan monitoring jaringan kompu...</td>\n",
       "      <td>berjalannya koneksi jaringan komputer dengan l...</td>\n",
       "      <td>RPL</td>\n",
       "      <td>[aplikasi, kontrol, monitoring, jaring, komput...</td>\n",
       "      <td>[jalan, koneksi, jaring, komputer, lancar, gan...</td>\n",
       "    </tr>\n",
       "    <tr>\n",
       "      <th>2</th>\n",
       "      <td>70411100070</td>\n",
       "      <td>Heri Supriyanto</td>\n",
       "      <td>sistem pendukung keputusan optimasi penjadwala...</td>\n",
       "      <td>penjadwalan kuliah di perguruan tinggi merupak...</td>\n",
       "      <td>Komputasi</td>\n",
       "      <td>[sistem, dukung, putus, optimasi, jadwal, mata...</td>\n",
       "      <td>[jadwal, kuliah, guru, kompleks, masalah, vari...</td>\n",
       "    </tr>\n",
       "    <tr>\n",
       "      <th>3</th>\n",
       "      <td>80411100115</td>\n",
       "      <td>Septian Rahman Hakim</td>\n",
       "      <td>sistem augmented reality animasi benda bergera...</td>\n",
       "      <td>seiring perkembangan teknologi yang ada diduni...</td>\n",
       "      <td>Komputasi</td>\n",
       "      <td>[sistem, augmented, reality, animasi, benda, g...</td>\n",
       "      <td>[iring, kembang, teknologi, dunia, muncul, tek...</td>\n",
       "    </tr>\n",
       "    <tr>\n",
       "      <th>4</th>\n",
       "      <td>70411100007</td>\n",
       "      <td>Adi Chandra Laksono</td>\n",
       "      <td>gerak pekerja pada game real time strategy men...</td>\n",
       "      <td>gerak pekerja ada pada game yang memiliki genr...</td>\n",
       "      <td>RPL</td>\n",
       "      <td>[gerak, kerja, game, real, time, strategy, fin...</td>\n",
       "      <td>[gerak, kerja, game, milik, genre, rts, real, ...</td>\n",
       "    </tr>\n",
       "    <tr>\n",
       "      <th>...</th>\n",
       "      <td>...</td>\n",
       "      <td>...</td>\n",
       "      <td>...</td>\n",
       "      <td>...</td>\n",
       "      <td>...</td>\n",
       "      <td>...</td>\n",
       "      <td>...</td>\n",
       "    </tr>\n",
       "    <tr>\n",
       "      <th>793</th>\n",
       "      <td>160411100032</td>\n",
       "      <td>Rachmad Agung Pambudi</td>\n",
       "      <td>penerapan algoritma long short term memory unt...</td>\n",
       "      <td>investasi saham selama ini memiliki resiko ker...</td>\n",
       "      <td>NLP</td>\n",
       "      <td>[terap, algoritma, long, short, term, memory, ...</td>\n",
       "      <td>[investasi, saham, milik, resiko, rugi, gera, ...</td>\n",
       "    </tr>\n",
       "    <tr>\n",
       "      <th>794</th>\n",
       "      <td>160411100182</td>\n",
       "      <td>Nadila Hidayanti</td>\n",
       "      <td>sistem pencarian teks al quran terjemahan berb...</td>\n",
       "      <td>information retrieval ir merupakan pengambilan...</td>\n",
       "      <td>Komputasi</td>\n",
       "      <td>[sistem, cari, teks, al, quran, terjemah, baha...</td>\n",
       "      <td>[information, retrieval, ir, ambil, informasi,...</td>\n",
       "    </tr>\n",
       "    <tr>\n",
       "      <th>795</th>\n",
       "      <td>160411100077</td>\n",
       "      <td>Afni Sakinah</td>\n",
       "      <td>klasifikasi kompleksitas visual citra sampah m...</td>\n",
       "      <td>klasifikasi citra merupakan proses pengelompok...</td>\n",
       "      <td>Komputasi</td>\n",
       "      <td>[klasifikasi, kompleksitas, visual, citra, sam...</td>\n",
       "      <td>[klasifikasi, citra, proses, kelompok, piksel,...</td>\n",
       "    </tr>\n",
       "    <tr>\n",
       "      <th>796</th>\n",
       "      <td>160411100084</td>\n",
       "      <td>Friska Fatmawatiningrum</td>\n",
       "      <td>identifikasi biner atribut pejalan kaki menggu...</td>\n",
       "      <td>identifikasi atribut pejalan kaki merupakan sa...</td>\n",
       "      <td>NLP</td>\n",
       "      <td>[identifikasi, biner, atribut, pejal, kaki, ad...</td>\n",
       "      <td>[identifikasi, atribut, pejal, kaki, salah, te...</td>\n",
       "    </tr>\n",
       "    <tr>\n",
       "      <th>797</th>\n",
       "      <td>160411100044</td>\n",
       "      <td>Dian Wibowo</td>\n",
       "      <td>deteksi objek manusia berbasis one stage detec...</td>\n",
       "      <td>topik deteksi objek telah menarik perhatian ya...</td>\n",
       "      <td>Komputasi</td>\n",
       "      <td>[deteksi, objek, manusia, bas, one, stage, det...</td>\n",
       "      <td>[topik, deteksi, objek, tarik, perhati, kemban...</td>\n",
       "    </tr>\n",
       "  </tbody>\n",
       "</table>\n",
       "<p>792 rows × 7 columns</p>\n",
       "</div>"
      ],
      "text/plain": [
       "              NIM                     Nama  \\\n",
       "0     40411100468       A.Ubaidillah S.Kom   \n",
       "1     40411100476      M. Basith Ardianto,   \n",
       "2     70411100070          Heri Supriyanto   \n",
       "3     80411100115     Septian Rahman Hakim   \n",
       "4     70411100007      Adi Chandra Laksono   \n",
       "..            ...                      ...   \n",
       "793  160411100032    Rachmad Agung Pambudi   \n",
       "794  160411100182         Nadila Hidayanti   \n",
       "795  160411100077             Afni Sakinah   \n",
       "796  160411100084  Friska Fatmawatiningrum   \n",
       "797  160411100044              Dian Wibowo   \n",
       "\n",
       "                                                 Judul  \\\n",
       "0    perancangan dan implementasi sistem database t...   \n",
       "1    aplikasi kontrol dan monitoring jaringan kompu...   \n",
       "2    sistem pendukung keputusan optimasi penjadwala...   \n",
       "3    sistem augmented reality animasi benda bergera...   \n",
       "4    gerak pekerja pada game real time strategy men...   \n",
       "..                                                 ...   \n",
       "793  penerapan algoritma long short term memory unt...   \n",
       "794  sistem pencarian teks al quran terjemahan berb...   \n",
       "795  klasifikasi kompleksitas visual citra sampah m...   \n",
       "796  identifikasi biner atribut pejalan kaki menggu...   \n",
       "797  deteksi objek manusia berbasis one stage detec...   \n",
       "\n",
       "                                               Abstrak      Kelas  \\\n",
       "0    sistem informasi akademik siakad merupakan sis...        RPL   \n",
       "1    berjalannya koneksi jaringan komputer dengan l...        RPL   \n",
       "2    penjadwalan kuliah di perguruan tinggi merupak...  Komputasi   \n",
       "3    seiring perkembangan teknologi yang ada diduni...  Komputasi   \n",
       "4    gerak pekerja ada pada game yang memiliki genr...        RPL   \n",
       "..                                                 ...        ...   \n",
       "793  investasi saham selama ini memiliki resiko ker...        NLP   \n",
       "794  information retrieval ir merupakan pengambilan...  Komputasi   \n",
       "795  klasifikasi citra merupakan proses pengelompok...  Komputasi   \n",
       "796  identifikasi atribut pejalan kaki merupakan sa...        NLP   \n",
       "797  topik deteksi objek telah menarik perhatian ya...  Komputasi   \n",
       "\n",
       "                                          judul_tokens  \\\n",
       "0    [ancang, implementasi, sistem, database, distr...   \n",
       "1    [aplikasi, kontrol, monitoring, jaring, komput...   \n",
       "2    [sistem, dukung, putus, optimasi, jadwal, mata...   \n",
       "3    [sistem, augmented, reality, animasi, benda, g...   \n",
       "4    [gerak, kerja, game, real, time, strategy, fin...   \n",
       "..                                                 ...   \n",
       "793  [terap, algoritma, long, short, term, memory, ...   \n",
       "794  [sistem, cari, teks, al, quran, terjemah, baha...   \n",
       "795  [klasifikasi, kompleksitas, visual, citra, sam...   \n",
       "796  [identifikasi, biner, atribut, pejal, kaki, ad...   \n",
       "797  [deteksi, objek, manusia, bas, one, stage, det...   \n",
       "\n",
       "                                        abstrak_tokens  \n",
       "0    [sistem, informasi, akademik, siakad, sistem, ...  \n",
       "1    [jalan, koneksi, jaring, komputer, lancar, gan...  \n",
       "2    [jadwal, kuliah, guru, kompleks, masalah, vari...  \n",
       "3    [iring, kembang, teknologi, dunia, muncul, tek...  \n",
       "4    [gerak, kerja, game, milik, genre, rts, real, ...  \n",
       "..                                                 ...  \n",
       "793  [investasi, saham, milik, resiko, rugi, gera, ...  \n",
       "794  [information, retrieval, ir, ambil, informasi,...  \n",
       "795  [klasifikasi, citra, proses, kelompok, piksel,...  \n",
       "796  [identifikasi, atribut, pejal, kaki, salah, te...  \n",
       "797  [topik, deteksi, objek, tarik, perhati, kemban...  \n",
       "\n",
       "[792 rows x 7 columns]"
      ]
     },
     "execution_count": 57,
     "metadata": {},
     "output_type": "execute_result"
    }
   ],
   "source": [
    "df"
   ]
  },
  {
   "cell_type": "code",
   "execution_count": 26,
   "metadata": {},
   "outputs": [],
   "source": [
    "df['judul_tokens'] = df['judul_tokens'].apply(lambda x: ' '.join(x))\n",
    "df['abstrak_tokens'] = df['abstrak_tokens'].apply(lambda x: ' '.join(x))\n",
    "\n",
    "df.to_csv('cleaned-data-kelas.csv')"
   ]
  }
 ],
 "metadata": {
  "kernelspec": {
   "display_name": "Python 3 (ipykernel)",
   "language": "python",
   "name": "python3"
  },
  "language_info": {
   "codemirror_mode": {
    "name": "ipython",
    "version": 3
   },
   "file_extension": ".py",
   "mimetype": "text/x-python",
   "name": "python",
   "nbconvert_exporter": "python",
   "pygments_lexer": "ipython3",
   "version": "3.8.6"
  },
  "vscode": {
   "interpreter": {
    "hash": "a90aeebcf29d64a654773811cc170cb25061cb2498f10ac689db374c7bf325de"
   }
  }
 },
 "nbformat": 4,
 "nbformat_minor": 2
}
